{
 "cells": [
  {
   "cell_type": "markdown",
   "id": "938502d3",
   "metadata": {},
   "source": [
    "### Notebook - Analyse ESG \n",
    "Pouponneau Guillaume /\n",
    "Badra Axcel /\n",
    "Foucault Simon"
   ]
  },
  {
   "cell_type": "markdown",
   "id": "452dadd4",
   "metadata": {},
   "source": [
    "### Étape 1 -  Création du dataframe\n",
    "Cette partie consiste à récupérer tous les fichiers MXEM et les regrouper dans un dataframe unique contenant chaque titre pour chaque trimestre.\n",
    "\n",
    "1 : Imports & chemins \\\n",
    "2 : Détection des snapshots MSCI EMU \\\n",
    "3 : Lecture & empilement\\\n",
    "4 : Normalisation des colonnes\\\n",
    "5 : Typage & clés de jointure\\\n",
    "6 : Sauvegarde CSV\\\n",
    "\n"
   ]
  },
  {
   "cell_type": "code",
   "execution_count": 2,
   "id": "526f4402",
   "metadata": {},
   "outputs": [],
   "source": [
    "from pathlib import Path\n",
    "import pandas as pd\n",
    "import re\n",
    "\n",
    "# ── Chemins ─────────────────────────────────────────────────────────────────────\n",
    "PATH_RAW = Path(\"data/raw/constituents\")   # dossier contenant les « MXEM as of … »\n",
    "PATH_OUT = Path(\"data/processed\")\n",
    "PATH_OUT.mkdir(parents=True, exist_ok=True)\n",
    "\n",
    "# ── Regex pour extraire la date depuis le nom de fichier ────────────────────────\n",
    "FILENAME_PATTERN = re.compile(r\"MXEM as of (\\w{3}) (\\d{1,2}) (\\d{4})\", re.I)"
   ]
  },
  {
   "cell_type": "markdown",
   "id": "e6f755db",
   "metadata": {},
   "source": [
    "Afin de vérifier les fichiers récupérés, on va les lister"
   ]
  },
  {
   "cell_type": "code",
   "execution_count": 3,
   "id": "8ae04cf6",
   "metadata": {},
   "outputs": [
    {
     "name": "stdout",
     "output_type": "stream",
     "text": [
      "21 fichier(s) détecté(s).\n",
      " - MXEM as of Dec 29 20231.xlsx\n",
      " - MXEM as of Dec 30 20221.xlsx\n",
      " - MXEM as of Dec 31 20191.xlsx\n",
      " - MXEM as of Dec 31 20201.xlsx\n",
      " - MXEM as of Dec 31 20211.xlsx\n"
     ]
    }
   ],
   "source": [
    "# ── Lister les fichiers disponibles ─────────────────────────────────────────────\n",
    "xlsx_files = sorted(PATH_RAW.glob(\"MXEM as of *.xlsx\"))\n",
    "print(f\"{len(xlsx_files)} fichier(s) détecté(s).\")\n",
    "for f in xlsx_files[:5]:                     # aperçu\n",
    "    print(\" -\", f.name)\n"
   ]
  },
  {
   "cell_type": "markdown",
   "id": "c572761a",
   "metadata": {},
   "source": [
    "On créer une boucle pour lire nos fichiers par trimestres, et on les empile dans un fichier \"constituents\""
   ]
  },
  {
   "cell_type": "code",
   "execution_count": 4,
   "id": "b8ec4d60",
   "metadata": {},
   "outputs": [
    {
     "name": "stdout",
     "output_type": "stream",
     "text": [
      "4,873 lignes après empilement.\n"
     ]
    }
   ],
   "source": [
    "# ── Boucle de lecture & empilement ──────────────────────────────────────────────\n",
    "frames = []\n",
    "for file in xlsx_files: \n",
    "    match = FILENAME_PATTERN.search(file.stem) \n",
    "    if not match: \n",
    "        raise ValueError(f\"Nom de fichier inattendu : {file.name}\") # le nom de fichier doit correspondre au pattern\n",
    "\n",
    "    month_str, day, year = match.groups() \n",
    "    snapshot_date = pd.to_datetime(f\"{day} {month_str} {year}\", dayfirst=True) # date au format datetime\n",
    "\n",
    "    df = pd.read_excel(file)                # nécessite openpyxl\n",
    "    df[\"SnapshotDate\"] = snapshot_date \n",
    "    frames.append(df) \n",
    "\n",
    "constituents = pd.concat(frames, ignore_index=True) # empilement des DataFrames\n",
    "print(f\"{constituents.shape[0]:,} lignes après empilement.\") \n"
   ]
  },
  {
   "cell_type": "code",
   "execution_count": 5,
   "id": "31f80d96",
   "metadata": {},
   "outputs": [],
   "source": [
    "# ── Nettoyage des libellés de colonnes ──────────────────────────────────────────\n",
    "constituents.columns = constituents.columns.str.strip()  # supprime les espaces\n",
    "\n",
    "COL_MAP = {     \n",
    "    \"Ticker\": \"ticker\",\n",
    "    \"ISIN\": \"isin\",\n",
    "    \"Name\": \"name\",\n",
    "    \"GICS Sector\": \"sector\",\n",
    "    \"Weight\": \"weight\",\n",
    "    \"Price\": \"price\",\n",
    "    \"Shares\": \"shares\",\n",
    "    \"SnapshotDate\": \"snapshot_date\",\n",
    "} # renommer les colonnes pour avoir des noms plus courts et en minuscules\n",
    "constituents = constituents.rename(columns=COL_MAP)\n",
    "\n"
   ]
  },
  {
   "cell_type": "code",
   "execution_count": 6,
   "id": "7f88d19a",
   "metadata": {},
   "outputs": [],
   "source": [
    "# ── Typage & normalisation ──────────────────────────────────────────────────────\n",
    "constituents[\"weight\"] = constituents[\"weight\"].astype(float, errors=\"ignore\") / 100.0\n",
    "constituents[\"price\"]  = constituents[\"price\"].astype(float, errors=\"ignore\")\n",
    "\n",
    "# Clef Bloomberg sans \"Equity\" pour futures jointures (ESG, prix…)\n",
    "constituents[\"ticker_bb\"] = (\n",
    "    constituents[\"ticker\"]\n",
    "      .str.replace(r\"\\s+Equity$\", \"\", regex=True)\n",
    "      .str.strip()\n",
    ") # supprime \"Equity\" et les espaces superflus\n",
    "\n",
    "\n"
   ]
  },
  {
   "cell_type": "code",
   "execution_count": 7,
   "id": "d2a9abec",
   "metadata": {},
   "outputs": [
    {
     "name": "stdout",
     "output_type": "stream",
     "text": [
      "Sauvegarde CSV → C:\\Users\\Ronan\\Desktop\\esg fayssal\\data\\processed\\constituents_snapshot.csv\n"
     ]
    }
   ],
   "source": [
    "# ── Sauvegarde CSV ──────────────────────────────────────────────────────────────\n",
    "out_file = PATH_OUT / \"constituents_snapshot.csv\"\n",
    "constituents.to_csv(out_file, index=False, encoding=\"utf-8\")\n",
    "print(\"Sauvegarde CSV →\", out_file.resolve())"
   ]
  },
  {
   "cell_type": "markdown",
   "id": "0424044b",
   "metadata": {},
   "source": [
    "### Étape 2 - Obtenir une  base unique constituants + note ESG pour chaque trimestre\n",
    "\n",
    "1 : Chargement des constituants \\\n",
    "2 : Chargement des scores ESG\\\n",
    "3 : Normalisation des tickers\\\n",
    "4 : Harmonisation des suffixes EMU\\\n",
    "5 : Dé-duplication ESG\\\n",
    "6 : Jointure \"many to one\"\\\n",
    "7 : Contrôle de couverture\\\n",
    "8 : Sauvegarde"
   ]
  },
  {
   "cell_type": "code",
   "execution_count": 8,
   "id": "9de8610b",
   "metadata": {},
   "outputs": [],
   "source": [
    "# ── 0. Chemins ────────────────────────────────────────────────────────────────\n",
    "PATH_PROC     = Path(\"data/processed\")                    # dossier des fichiers produits\n",
    "PATH_RAW_ESG  = Path(\"data/raw/esg/Score ESG brut.csv\")   \n",
    "SNAPSHOT_FILE = PATH_PROC / \"constituents_snapshot.csv\"   # issu du Notebook 01\n",
    "OUT_FILE      = PATH_PROC / \"universe_with_esg.csv\""
   ]
  },
  {
   "cell_type": "code",
   "execution_count": 9,
   "id": "44a8c6e7",
   "metadata": {},
   "outputs": [
    {
     "name": "stdout",
     "output_type": "stream",
     "text": [
      "Constituants : (4873, 9)\n"
     ]
    }
   ],
   "source": [
    "# ── 1. Charger les constituants (snapshot) ───────────────────────────────────\n",
    "constituents = pd.read_csv(SNAPSHOT_FILE, encoding=\"utf-8\")\n",
    "print(\"Constituants :\", constituents.shape)\n"
   ]
  },
  {
   "cell_type": "code",
   "execution_count": 10,
   "id": "d226a478",
   "metadata": {},
   "outputs": [],
   "source": [
    "# ── 2. Charger les scores ESG ────────────────────────────────────────────────\n",
    "esg = (\n",
    "    pd.read_csv(PATH_RAW_ESG, encoding=\"utf-8\")\n",
    "      .rename(columns={\n",
    "          \"ISSUER_EQUITY_TICKER\": \"ticker_raw\",\n",
    "          \"Score ESG brut\":       \"esg_score_raw\",\n",
    "      })\n",
    ")"
   ]
  },
  {
   "cell_type": "code",
   "execution_count": 11,
   "id": "e9f83eb6",
   "metadata": {},
   "outputs": [],
   "source": [
    "# 1. Normalisation des tickers ▸ même casse, espaces uniques\n",
    "def basic_norm(t): \n",
    "    return re.sub(r\"\\s+\", \" \", str(t).upper()).strip() # supprime les espaces superflus et met en majuscules\n",
    "\n",
    "constituents[\"ticker_base\"] = constituents[\"ticker_bb\"].apply(basic_norm) \n",
    "esg[\"ticker_base\"]          = esg[\"ticker_raw\"].apply(basic_norm) "
   ]
  },
  {
   "cell_type": "code",
   "execution_count": 12,
   "id": "d1569aea",
   "metadata": {},
   "outputs": [],
   "source": [
    "# 2. Harmonisation des suffixes les plus courants EMU\n",
    "suffix_map = { \n",
    "    \"GY\": \"GR\",   # Allemagne   (SIE GY → SIE GR)\n",
    "    \"SQ\": \"SM\",   # Espagne     (IBE SQ → IBE SM)\n",
    "    \"FP\": \"FP\",   # France\n",
    "    \"NA\": \"NA\",   # Pays‑Bas\n",
    "    \"IM\": \"IM\",   # Italie\n",
    "    \"ID\": \"ID\",   # Irlande\n",
    "} \n",
    "def swap_suffix(ticker):\n",
    "    sym, suf = ticker.split() # sépare le symbole du suffixe\n",
    "    new_suf  = suffix_map.get(suf, suf)      # remplace si clé connue\n",
    "    return f\"{sym} {new_suf}\" # reconstruit le ticker avec le nouveau suffixe\n",
    "\n",
    "constituents[\"ticker_alt\"] = constituents[\"ticker_base\"].apply(swap_suffix) \n",
    "esg[\"ticker_alt\"]          = esg[\"ticker_base\"]          # même logique\n"
   ]
  },
  {
   "cell_type": "code",
   "execution_count": 13,
   "id": "65177567",
   "metadata": {},
   "outputs": [],
   "source": [
    "# 3. Création d’une clé finale (on prendra alt si présente dans ESG, sinon base)\n",
    "constituents[\"merge_key\"] = constituents[\"ticker_alt\"] \n",
    "esg[\"merge_key\"]          = esg[\"ticker_alt\"] "
   ]
  },
  {
   "cell_type": "code",
   "execution_count": 14,
   "id": "0d17367b",
   "metadata": {},
   "outputs": [],
   "source": [
    "# ── Dé‑duplication finale côté ESG (gardera la première occurrence) ──────────\n",
    "esg_unique = (\n",
    "    esg[[\"merge_key\", \"esg_score_raw\"]]\n",
    "       .drop_duplicates(subset=\"merge_key\", keep=\"first\")   # ou keep=\"last\"\n",
    ") \n",
    "\n",
    "# ── Jointure many‑to‑one après dé‑duplication ───────────────────────────────\n",
    "universe_esg = constituents.merge(\n",
    "    esg_unique,\n",
    "    on=\"merge_key\",\n",
    "    how=\"left\",\n",
    "    validate=\"m:1\"\n",
    ") "
   ]
  },
  {
   "cell_type": "code",
   "execution_count": 15,
   "id": "a710a8d6",
   "metadata": {},
   "outputs": [
    {
     "name": "stdout",
     "output_type": "stream",
     "text": [
      "Couverture ESG après normalisation : 93.2%\n"
     ]
    }
   ],
   "source": [
    "# 5. Couverture obtenue\n",
    "coverage = universe_esg[\"esg_score_raw\"].notna().mean() \n",
    "print(f\"Couverture ESG après normalisation : {coverage:.1%}\")   # ~ 92 % attendu"
   ]
  },
  {
   "cell_type": "code",
   "execution_count": 16,
   "id": "41388b87",
   "metadata": {},
   "outputs": [
    {
     "name": "stdout",
     "output_type": "stream",
     "text": [
      "Sauvegarde → C:\\Users\\Ronan\\Desktop\\esg fayssal\\data\\processed\\universe_with_esg.csv\n"
     ]
    }
   ],
   "source": [
    "# 6. Sauvegarde\n",
    "out_file = PATH_PROC / \"universe_with_esg.csv\"\n",
    "universe_esg.to_csv(out_file, index=False, encoding=\"utf-8\")\n",
    "print(\"Sauvegarde →\", out_file.resolve())"
   ]
  },
  {
   "cell_type": "markdown",
   "id": "3f1dba88",
   "metadata": {},
   "source": [
    "### Étape 3 - Stratégie & Back - test\n",
    "\n",
    "0 : Imports & chemins \\\n",
    "1 : Chargement des données \\\n",
    "2 : Calcul des rendements \\\n",
    "3 : Fonction \\\n",
    "4 : Boucle de back test \\\n",
    "5 : Construction des courbes cumulées \\\n",
    "6 : Sauvegarde "
   ]
  },
  {
   "cell_type": "code",
   "execution_count": 17,
   "id": "d6b225ea",
   "metadata": {},
   "outputs": [],
   "source": [
    "# Hypothèses retenues (conformément au cahier des charges) :\n",
    "# • Univers d’investissement   : MSCI EMU “constituents_snapshot.csv”\n",
    "# • Univers ESG                : best‑in‑class 30 % (fichier esg_universe_flagged.csv)\n",
    "# • Sélection / Stock‑picking  : portefeuille égal‑pondéré, mais\n",
    "#                                – plafonné à 10 % par ligne\n",
    "#                                – somme des 5 plus grosses lignes ≤ 40 %\n",
    "# • Fréquence de rebalancing   : trimestrielle (dates de snapshot)\n",
    "# • Signal achat/vente         : appartenance à l’univers ESG (simple buy‑and‑hold\n",
    "#                                sur le trimestre suivant)\n",
    "# • Frais de transaction       : ignorés (≤ 0,1 % négligeable à ce stade)\n",
    "# • Benchmarks                 : (1) univers ESG égal‑pondéré, (2) univers initial\n",
    "#                                égal‑pondéré\n",
    "\n",
    "from pathlib import Path\n",
    "import pandas as pd\n",
    "import numpy as np\n",
    "\n",
    "# ── 0. Chemins ──────────────────────────────────────────────────────────────\n",
    "PATH_PROC = Path(\"data/processed\")\n",
    "SNAP_FILE = PATH_PROC / \"constituents_snapshot.csv\"\n",
    "ESG_FILE  = PATH_PROC / \"esg_universe_flagged.csv\"\n"
   ]
  },
  {
   "cell_type": "code",
   "execution_count": 18,
   "id": "0e6d1b8e",
   "metadata": {},
   "outputs": [],
   "source": [
    "# ── 1. Charger les tables ----------------------------------------------------\n",
    "snap = pd.read_csv(SNAP_FILE, parse_dates=[\"snapshot_date\"], encoding=\"utf-8\")\n",
    "esg  = pd.read_csv(ESG_FILE,  parse_dates=[\"snapshot_date\"], encoding=\"utf-8\")\n",
    "\n",
    "# gardons seulement les colonnes utiles\n",
    "cols_keep = [\"snapshot_date\", \"ticker_bb\", \"price\", \"in_esg_universe\"]\n",
    "univ_full = esg[cols_keep].copy()\n",
    "univ_full[\"in_esg_universe\"] = univ_full[\"in_esg_universe\"].fillna(False)"
   ]
  },
  {
   "cell_type": "code",
   "execution_count": 19,
   "id": "1f256856",
   "metadata": {},
   "outputs": [
    {
     "name": "stderr",
     "output_type": "stream",
     "text": [
      "C:\\Users\\Ronan\\AppData\\Local\\Temp\\ipykernel_78316\\800615034.py:9: FutureWarning: The default fill_method='pad' in DataFrame.pct_change is deprecated and will be removed in a future version. Either fill in any non-leading NA values prior to calling pct_change or specify 'fill_method=None' to not fill NA values.\n",
      "  returns = price_mat.pct_change().shift(-1)    # rendement sur la période suivante\n"
     ]
    }
   ],
   "source": [
    "# ── 2. Préparer la grille de prix -------------------------------------------\n",
    "# pivot : lignes = dates, colonnes = tickers, valeurs = prix\n",
    "price_mat = (\n",
    "    snap.pivot_table(index=\"snapshot_date\", columns=\"ticker_bb\", values=\"price\")\n",
    "        .sort_index()\n",
    ") \n",
    "\n",
    "# On aura besoin des variations de prix entre deux snapshots consécutifs\n",
    "returns = price_mat.pct_change().shift(-1)    # rendement sur la période suivante\n",
    "# (la dernière ligne restera NaN)"
   ]
  },
  {
   "cell_type": "code",
   "execution_count": 20,
   "id": "ae6d74a7",
   "metadata": {},
   "outputs": [],
   "source": [
    "# ── 3. Fonction de pondération conforme 5/10/40 ------------------------------\n",
    "def apply_5_10_40(weights):\n",
    "    \"\"\"Prend des poids bruts, les rabote à 10 % max et 40 % top5, puis renormalise.\"\"\"\n",
    "    # Cap individuel à 10 %\n",
    "    w = weights.clip(upper=0.10)\n",
    "    # Renormalise pour que Σw = 1\n",
    "    w = w / w.sum()\n",
    "\n",
    "    # Si les 5 plus grosses lignes > 40 %, redistribue l’excès proportionnellement\n",
    "    top5 = w.nlargest(5)\n",
    "    excess = top5.sum() - 0.40\n",
    "    if excess > 0:\n",
    "        # diminue proportionnellement les 5 premières\n",
    "        factor = (top5 - (excess * (top5 / top5.sum()))).clip(lower=0)\n",
    "        w.loc[top5.index] = factor\n",
    "        w = w / w.sum()\n",
    "    return w\n"
   ]
  },
  {
   "cell_type": "code",
   "execution_count": 21,
   "id": "54289461",
   "metadata": {},
   "outputs": [],
   "source": [
    "# ── 4. Boucle de back‑test ---------------------------------------------------\n",
    "portfolio_curve = []\n",
    "esg_curve       = []\n",
    "full_curve      = []\n",
    "\n",
    "dates = price_mat.index[:-1]      # on ne peut pas calculer le dernier rendement (shift -1)\n",
    "\n",
    "for d in dates:\n",
    "    ret_row = returns.loc[d]          # ← ligne entière : tous les tickers\n",
    "    \n",
    "    # 1. Portefeuille ESG contraint 5/10/40\n",
    "    tickers_port = univ_full.loc[\n",
    "        (univ_full[\"snapshot_date\"] == d) & (univ_full[\"in_esg_universe\"]),\n",
    "        \"ticker_bb\"\n",
    "    ]\n",
    "    w_raw = pd.Series(1/len(tickers_port), index=tickers_port)\n",
    "    w_port = apply_5_10_40(w_raw)\n",
    "    port_ret = np.nansum(w_port * ret_row[w_port.index])\n",
    "\n",
    "    # 2. Benchmark ESG égal‑pondéré\n",
    "    w_esg = pd.Series(1/len(tickers_port), index=tickers_port)\n",
    "    esg_ret = np.nansum(w_esg * ret_row[tickers_port])\n",
    "\n",
    "    # 3. Benchmark univers initial égal‑pondéré\n",
    "    tickers_all = price_mat.columns[price_mat.loc[d].notna()]\n",
    "    w_all = pd.Series(1/len(tickers_all), index=tickers_all)\n",
    "    all_ret = np.nansum(w_all * ret_row[tickers_all])\n",
    "\n",
    "    portfolio_curve.append(port_ret)\n",
    "    esg_curve.append(esg_ret)\n",
    "    full_curve.append(all_ret)"
   ]
  },
  {
   "cell_type": "code",
   "execution_count": 22,
   "id": "51cd4f26",
   "metadata": {},
   "outputs": [
    {
     "name": "stdout",
     "output_type": "stream",
     "text": [
      "Performance cumulée (du 1ᵉʳ snapshot à l'avant‑dernier) :\n",
      "               port_ESG_constrained  benchmark_ESG_equal  benchmark_full_equal\n",
      "snapshot_date                                                                 \n",
      "2023-12-29                 1.108064             1.108064              1.110088\n",
      "2024-03-31                 1.072685             1.072685              1.067389\n",
      "2024-06-30                 1.169817             1.169817              1.142834\n",
      "2024-09-29                 1.148581             1.148581              1.092086\n",
      "2024-12-31                 1.211155             1.211155              1.152671\n"
     ]
    }
   ],
   "source": [
    "# ── 5. Courbes cumulées -------------------------------------------------------\n",
    "perf = pd.DataFrame({\n",
    "    \"port_ESG_constrained\": portfolio_curve,\n",
    "    \"benchmark_ESG_equal\":  esg_curve,\n",
    "    \"benchmark_full_equal\": full_curve\n",
    "}, index=dates)\n",
    "\n",
    "cumperf = (1 + perf).cumprod()\n",
    "\n",
    "print(\"Performance cumulée (du 1ᵉʳ snapshot à l'avant‑dernier) :\")\n",
    "print(cumperf.tail())"
   ]
  },
  {
   "cell_type": "code",
   "execution_count": 23,
   "id": "e5d21ace",
   "metadata": {},
   "outputs": [
    {
     "data": {
      "image/png": "[encoded data removed]",
      "text/plain": [
       "<Figure size 800x400 with 1 Axes>"
      ]
     },
     "metadata": {},
     "output_type": "display_data"
    }
   ],
   "source": [
    "# ── 5‑bis. Graphe des courbes cumulées ----------------------------------------\n",
    "import matplotlib.pyplot as plt\n",
    "\n",
    "plt.figure(figsize=(8, 4))           # une seule figure, taille raisonnable\n",
    "cumperf.plot(ax=plt.gca())           # trace les trois séries\n",
    "plt.title(\"Portefeuille ESG vs Benchmarks – Performance cumulée\")\n",
    "plt.xlabel(\"Date\")\n",
    "plt.ylabel(\"Indice 100 = 1er snapshot\")\n",
    "plt.grid(True)\n",
    "plt.tight_layout()\n",
    "plt.show()"
   ]
  },
  {
   "cell_type": "markdown",
   "id": "a016c79e",
   "metadata": {},
   "source": [
    "<u><b>Portefeuille “ESG constrained”</b></u>\n",
    "\n",
    "On part d’un poids égal pour chaque titre sélectionné.\n",
    "\n",
    "Si aucun titre ne dépasse 10 % ‑ et si la somme des cinq plus gros reste ≤ 40 % – alors la fonction apply_5_10_40() renvoie exactement les mêmes poids qu’au départ.\n",
    "\n",
    "<u><b>Benchmark “ESG equal”</u></b>\n",
    "\n",
    "C’est la version strictement égal‑pondérée sans contrainte.\n",
    "\n",
    "Dans cette simulation :\n",
    "\n",
    "Nombre de titres ESG par trimestre : 30 – 40 environ.\n",
    "\n",
    "Poids égal : 1 / 40 ≈ 2,5 % par ligne, donc très loin du plafond de 10 %.\n",
    "\n",
    "Top 5 : 5 × 2,5 % = 12,5 % (bien en‑dessous du seuil 40 %).\n",
    "\n",
    "<u>Résultat</u> : les vecteurs de poids sont identiques, d’où des courbes identiques."
   ]
  },
  {
   "cell_type": "code",
   "execution_count": null,
   "id": "093c17f7",
   "metadata": {},
   "outputs": [],
   "source": [
    "# ── 6. Sauvegarde -------------------------------------------------------------\n",
    "out_curve = PATH_PROC / \"backtest_cumperf.csv\"\n",
    "cumperf.to_csv(out_curve, index=True, encoding=\"utf-8\")\n",
    "print(\"Courbes cumulées sauvegardées →\", out_curve.resolve())"
   ]
  },
  {
   "cell_type": "markdown",
   "id": "ea99311b",
   "metadata": {},
   "source": [
    "### Étape 4 - Construction de l'univers ESG best in class 30%\n",
    "\n",
    "0 : Imports & chemins \\\n",
    "1 : Lecture de la base univers + esg \\\n",
    "2 : Filtre \"score non nul\" \\\n",
    "3 : Boucle par snapshot \\\n",
    "4 : Attribution du flag \\\n",
    "5 : Contrôle global \\\n",
    "6 : Sauvegarde"
   ]
  },
  {
   "cell_type": "code",
   "execution_count": null,
   "id": "dad6b4e3",
   "metadata": {},
   "outputs": [],
   "source": [
    "# 0. Chemins -------------------------------------------------------------------\n",
    "PATH_PROC = Path(\"data/processed\")\n",
    "IN_FILE   = PATH_PROC / \"universe_with_esg.csv\"\n",
    "OUT_FILE  = PATH_PROC / \"esg_universe_flagged.csv\""
   ]
  },
  {
   "cell_type": "code",
   "execution_count": null,
   "id": "d1f03947",
   "metadata": {},
   "outputs": [],
   "source": [
    "# 1. Charger l’univers complet + scores ESG ------------------------------------\n",
    "universe = pd.read_csv(IN_FILE, parse_dates=[\"snapshot_date\"], encoding=\"utf-8\")\n",
    "\n",
    "# Conserver uniquement les lignes dotées d’un score ESG\n",
    "universe = universe.dropna(subset=[\"esg_score_raw\"]).copy()"
   ]
  },
  {
   "cell_type": "code",
   "execution_count": null,
   "id": "481b3bb6",
   "metadata": {},
   "outputs": [],
   "source": [
    "# 2. Boucle par snapshot pour appliquer le filtre 30 % -------------------------\n",
    "frames = []\n",
    "\n",
    "for snap_date, df_date in universe.groupby(\"snapshot_date\"):\n",
    "    # Classement sectoriel décroissant (1 = meilleur score)\n",
    "    df_date[\"sector_pct_rank\"] = (\n",
    "        df_date.groupby(\"GICS_SECTOR_NAME\")[\"esg_score_raw\"]\n",
    "               .rank(method=\"first\", pct=True, ascending=False)\n",
    "    )\n",
    "    # Flag : top 30 % → True\n",
    "    df_date[\"in_esg_universe\"] = df_date[\"sector_pct_rank\"] <= 0.30\n",
    "    frames.append(df_date)\n",
    "\n",
    "esg_universe = pd.concat(frames, ignore_index=True)"
   ]
  },
  {
   "cell_type": "code",
   "execution_count": null,
   "id": "da8e8102",
   "metadata": {},
   "outputs": [],
   "source": [
    "# 3. Contrôle rapide -----------------------------------------------------------\n",
    "coverage_flag = esg_universe[\"in_esg_universe\"].mean()\n",
    "print(f\"≈ {coverage_flag*100:.1f} % des lignes sont dans le best‑in‑class 30 %.\")"
   ]
  },
  {
   "cell_type": "code",
   "execution_count": null,
   "id": "ef36bb07",
   "metadata": {},
   "outputs": [],
   "source": [
    "# 4. Sauvegarde ----------------------------------------------------------------\n",
    "esg_universe.to_csv(OUT_FILE, index=False, encoding=\"utf-8\")\n",
    "print(\"Sauvegarde →\", OUT_FILE.resolve())"
   ]
  }
 ],
 "metadata": {
  "kernelspec": {
   "display_name": "Python 3",
   "language": "python",
   "name": "python3"
  },
  "language_info": {
   "codemirror_mode": {
    "name": "ipython",
    "version": 3
   },
   "file_extension": ".py",
   "mimetype": "text/x-python",
   "name": "python",
   "nbconvert_exporter": "python",
   "pygments_lexer": "ipython3",
   "version": "3.12.10"
  }
 },
 "nbformat": 4,
 "nbformat_minor": 5
}
